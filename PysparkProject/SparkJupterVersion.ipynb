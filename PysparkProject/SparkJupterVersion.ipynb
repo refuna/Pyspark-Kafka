{
 "cells": [
  {
   "cell_type": "code",
   "execution_count": null,
   "metadata": {},
   "outputs": [],
   "source": [
    "from kafka import KafkaProducer\n",
    "from pyspark.streaming import StreamingContext\n",
    "from pyspark.sql import SparkSession\n",
    "from pyspark import SparkConf, SparkContext\n",
    "import json\n",
    "import sys\n",
    "\n",
    "# import os\n",
    "# os.environ['HADOOP_HOME'] = 'C:\\Hadoop'\n",
    "# os.environ['SPARK_HOME'] = 'C:\\Spark\\spark-3.3.0-bin-hadoop3'\n",
    "# os.environ[\"JAVA_HOME\"] = 'C:\\Program Files\\Java\\jdk-18.0.2'\n",
    " \n",
    "def KafkaWordCount(topics, numThreads):\n",
    "    sc = SparkContext(appName=\"StructuredKafkaWordCount\")\n",
    "    sc.setLogLevel(\"ERROR\")\n",
    "    ssc = StreamingContext(sc, 1)\n",
    "\n",
    "    ssc.checkpoint(\"./kafka/checkpoint\")\n",
    "\n",
    "    topicAry = topics.split(\",\")\n",
    "\n",
    "    topicMap = {}\n",
    "    for topic in topicAry:\n",
    "        topicMap[topic] = numThreads\n",
    "    \n",
    "    lines = ssc.socketTextStream(\"localhost\", int(2181))\n",
    "    words = lines.flatMap(lambda x : x.split(\" \"))\n",
    "    wordcount = words.map(lambda x : (x, 1)).reduceByKeyAndWindow((lambda x,y : x+y), (lambda x,y : x-y), 1, 1, 1)\n",
    "    wordcount.foreachRDD(lambda x : sendmsg(x))\n",
    "    ssc.start()\n",
    "    ssc.awaitTermination()\n",
    " \n",
    "def Get_dic(rdd_list):\n",
    "    res = []\n",
    "    for elm in rdd_list:\n",
    "        tmp = {elm[0]: elm[1]}\n",
    "        res.append(tmp)\n",
    "    return json.dumps(res)\n",
    " \n",
    "def sendmsg(rdd):\n",
    "    if rdd.count != 0:\n",
    "        msg = Get_dic(rdd.collect())\n",
    "        producer = KafkaProducer(bootstrap_servers='localhost:9092')\n",
    "        producer.send(\"mytopic\", msg.encode('utf8'))\n",
    "        producer.flush() \n",
    " \n",
    "if __name__ == '__main__':\n",
    "    topics = sys.argv[1]\n",
    "    numThreads = int(sys.argv[2])\n",
    "    print(topics, numThreads)\n",
    "    KafkaWordCount(topics, numThreads)\n",
    " "
   ]
  }
 ],
 "metadata": {
  "kernelspec": {
   "display_name": "Python 3.10.5 64-bit",
   "language": "python",
   "name": "python3"
  },
  "language_info": {
   "name": "python",
   "version": "3.10.5"
  },
  "orig_nbformat": 4,
  "vscode": {
   "interpreter": {
    "hash": "369f2c481f4da34e4445cda3fffd2e751bd1c4d706f27375911949ba6bb62e1c"
   }
  }
 },
 "nbformat": 4,
 "nbformat_minor": 2
}
